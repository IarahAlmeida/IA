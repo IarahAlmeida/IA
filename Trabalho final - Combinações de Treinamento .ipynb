{
 "cells": [
  {
   "cell_type": "markdown",
   "metadata": {},
   "source": [
    "<h1>Trabalho final de Inteligência Artificial</h1>"
   ]
  },
  {
   "cell_type": "markdown",
   "metadata": {},
   "source": [
    "<h5>Iarah Gonçalves de Almeida</h5>\n",
    "<h5>Paulo Augusto Borges de Matos</h5>\n",
    "<h5>David Walter Jansen</h5>"
   ]
  },
  {
   "cell_type": "markdown",
   "metadata": {},
   "source": [
    "<h3>Bibliotecas necessárias</h3>"
   ]
  },
  {
   "cell_type": "code",
   "execution_count": 403,
   "metadata": {},
   "outputs": [],
   "source": [
    "import pandas as pd\n",
    "import numpy as np\n",
    "import matplotlib.pyplot as plt\n",
    "import seaborn as sns\n",
    "import statsmodels.api as sm\n",
    "from sklearn.model_selection import train_test_split\n",
    "from sklearn.ensemble import RandomForestRegressor\n",
    "from sklearn import metrics\n",
    "from sklearn.preprocessing import StandardScaler\n",
    "from sklearn.neural_network import MLPRegressor"
   ]
  },
  {
   "cell_type": "markdown",
   "metadata": {},
   "source": [
    "<h3>Carregando a base de dados</h3>"
   ]
  },
  {
   "cell_type": "markdown",
   "metadata": {},
   "source": [
    "As 17 características extraídas dos experimentos <b>c1</b>, <b>c4</b> e <b>c6</b> foram armazenadas em arquivos no formato .mat do Matlab (<i>x1_17.mat</i>, <i>x4_17.mat</i> e <i>x6_17.mat</i>), bem como as medições do desgaste máximo dos experimentos (<i>yt1.mat</i>, <i>yt4.mat</i> e <i>yt6.mat</i>). Em seguida, os arquivos .mat foram convertidos para o formato .csv através de um script do Matlab e, então, carregados através do Pandas. O nome das colunas da base de dados também é definida."
   ]
  },
  {
   "cell_type": "code",
   "execution_count": 404,
   "metadata": {},
   "outputs": [
    {
     "name": "stdout",
     "output_type": "stream",
     "text": [
      "(315, 17)\n",
      "(315, 17)\n",
      "(315, 17)\n",
      "(315, 1)\n",
      "(315, 1)\n",
      "(315, 1)\n"
     ]
    }
   ],
   "source": [
    "names = ['rmsFX', 'maxFX', 'stdFX', 'rmsFY', 'maxFY', 'stdFY', 'rmsFZ', 'maxFZ', 'stdFZ', 'rmsVX', 'kVX', 'rmsVY', 'kVY', 'rmsVZ', 'kVZ', 'meanEA', 'stdEA']\n",
    "target = ['maxDesg']\n",
    "df1 = pd.read_csv('x1.csv', names = names)\n",
    "df4 = pd.read_csv('x4.csv', names = names)\n",
    "df6 = pd.read_csv('x6.csv', names = names)\n",
    "df_yt1 = pd.read_csv('yt1.csv', names = target)\n",
    "df_yt4 = pd.read_csv('yt4.csv', names = target)\n",
    "df_yt6 = pd.read_csv('yt6.csv', names = target)\n",
    "print(df1.shape);\n",
    "print(df4.shape);\n",
    "print(df6.shape);\n",
    "print(df_yt1.shape);\n",
    "print(df_yt4.shape);\n",
    "print(df_yt6.shape);"
   ]
  },
  {
   "cell_type": "markdown",
   "metadata": {},
   "source": [
    "Inclusão da coluna de desgaste máximo nos DataFrames dos experimentos."
   ]
  },
  {
   "cell_type": "code",
   "execution_count": 436,
   "metadata": {},
   "outputs": [],
   "source": [
    "df1['maxDesg'] = df_yt1['maxDesg']\n",
    "df4['maxDesg'] = df_yt4['maxDesg']\n",
    "df6['maxDesg'] = df_yt6['maxDesg']"
   ]
  },
  {
   "cell_type": "code",
   "execution_count": 437,
   "metadata": {},
   "outputs": [
    {
     "name": "stdout",
     "output_type": "stream",
     "text": [
      "<class 'pandas.core.frame.DataFrame'>\n",
      "RangeIndex: 315 entries, 0 to 314\n",
      "Data columns (total 18 columns):\n",
      "rmsFX      315 non-null float64\n",
      "maxFX      315 non-null float64\n",
      "stdFX      315 non-null float64\n",
      "rmsFY      315 non-null float64\n",
      "maxFY      315 non-null float64\n",
      "stdFY      315 non-null float64\n",
      "rmsFZ      315 non-null float64\n",
      "maxFZ      315 non-null float64\n",
      "stdFZ      315 non-null float64\n",
      "rmsVX      315 non-null float64\n",
      "kVX        315 non-null float64\n",
      "rmsVY      315 non-null float64\n",
      "kVY        315 non-null float64\n",
      "rmsVZ      315 non-null float64\n",
      "kVZ        315 non-null float64\n",
      "meanEA     315 non-null float64\n",
      "stdEA      315 non-null float64\n",
      "maxDesg    315 non-null float64\n",
      "dtypes: float64(18)\n",
      "memory usage: 44.4 KB\n"
     ]
    }
   ],
   "source": [
    "df1.apply(pd.to_numeric).info()"
   ]
  },
  {
   "cell_type": "code",
   "execution_count": 438,
   "metadata": {},
   "outputs": [
    {
     "name": "stdout",
     "output_type": "stream",
     "text": [
      "<class 'pandas.core.frame.DataFrame'>\n",
      "RangeIndex: 315 entries, 0 to 314\n",
      "Data columns (total 18 columns):\n",
      "rmsFX      315 non-null float64\n",
      "maxFX      315 non-null float64\n",
      "stdFX      315 non-null float64\n",
      "rmsFY      315 non-null float64\n",
      "maxFY      315 non-null float64\n",
      "stdFY      315 non-null float64\n",
      "rmsFZ      315 non-null float64\n",
      "maxFZ      315 non-null float64\n",
      "stdFZ      315 non-null float64\n",
      "rmsVX      315 non-null float64\n",
      "kVX        315 non-null float64\n",
      "rmsVY      315 non-null float64\n",
      "kVY        315 non-null float64\n",
      "rmsVZ      315 non-null float64\n",
      "kVZ        315 non-null float64\n",
      "meanEA     315 non-null float64\n",
      "stdEA      315 non-null float64\n",
      "maxDesg    315 non-null float64\n",
      "dtypes: float64(18)\n",
      "memory usage: 44.4 KB\n"
     ]
    }
   ],
   "source": [
    "df4.apply(pd.to_numeric).info()"
   ]
  },
  {
   "cell_type": "code",
   "execution_count": 439,
   "metadata": {},
   "outputs": [
    {
     "name": "stdout",
     "output_type": "stream",
     "text": [
      "<class 'pandas.core.frame.DataFrame'>\n",
      "RangeIndex: 315 entries, 0 to 314\n",
      "Data columns (total 18 columns):\n",
      "rmsFX      315 non-null float64\n",
      "maxFX      315 non-null float64\n",
      "stdFX      315 non-null float64\n",
      "rmsFY      315 non-null float64\n",
      "maxFY      315 non-null float64\n",
      "stdFY      315 non-null float64\n",
      "rmsFZ      315 non-null float64\n",
      "maxFZ      315 non-null float64\n",
      "stdFZ      315 non-null float64\n",
      "rmsVX      315 non-null float64\n",
      "kVX        315 non-null float64\n",
      "rmsVY      315 non-null float64\n",
      "kVY        315 non-null float64\n",
      "rmsVZ      315 non-null float64\n",
      "kVZ        315 non-null float64\n",
      "meanEA     315 non-null float64\n",
      "stdEA      315 non-null float64\n",
      "maxDesg    315 non-null float64\n",
      "dtypes: float64(18)\n",
      "memory usage: 44.4 KB\n"
     ]
    }
   ],
   "source": [
    "df6.apply(pd.to_numeric).info()"
   ]
  },
  {
   "cell_type": "markdown",
   "metadata": {},
   "source": [
    "Trabalhando as bases de dados dos 3 experimentos."
   ]
  },
  {
   "cell_type": "markdown",
   "metadata": {},
   "source": [
    "### Seleção de características com árvore de decisão\n",
    "### Passos\n",
    "1. Separação entre conjuntos de treinamento e teste. (i, j, z representam permutações na escolhas para as bases 1, 4 e 6)  \n",
    "    1.1 Treinamento: Ci + Cj  \n",
    "    1.2 Teste: Cz  \n",
    "2. Aplicação da Random Forest k-vezes.  \n",
    "    2.1 Para cada k, utilizar um sistema de pontuação para as características mais importantes.  \n",
    "    2.2 Criar ordenação geral das características, quanto a sua importânca.  \n",
    "3. Utilização mapa de calor para exibir as coorelações entre as características.  \n",
    "    3.1 Criar uma lista de pares correlacionados para reduzir características usadas. Utilizar a ordenação das características como critério para remoção.\n",
    "4. Avaliação do resultado.  \n",
    "    4.1 Gerar nova regressão utilizando conjunto reduzido de características.  \n",
    "    4.2 Comparar resultados.\n",
    "    \n",
    "**Obs:** O passo 3 pode ser expandido usando combinações de características para gerar novas"
   ]
  },
  {
   "cell_type": "markdown",
   "metadata": {},
   "source": [
    "<h4>Random Forest Regressor</h4>\n",
    "\n",
    "<p><b>OBS.:</b> Nessa etapa, usaremos o seguinte alinhamento: O i-ésimo conjunto de características X, terá o target como o (i+1)-ésimo Y, indicando que a regressão será dada para um próximo passo.</p>"
   ]
  },
  {
   "cell_type": "code",
   "execution_count": 441,
   "metadata": {},
   "outputs": [],
   "source": [
    "# Isola as 17 características\n",
    "X1 = df1.iloc[:-1,0:17]\n",
    "X4 = df4.iloc[:-1,0:17]\n",
    "X6 = df6.iloc[:-1,0:17]\n",
    "\n",
    "# Escolhe o desgaste máximo\n",
    "Y1 = df1.iloc[1:,-1]\n",
    "Y4 = df4.iloc[1:,-1]\n",
    "Y6 = df6.iloc[1:,-1]\n",
    "\n",
    "# Seleciona o nome das 17 características\n",
    "names = df1.columns.values\n",
    "names = names[:17]"
   ]
  },
  {
   "cell_type": "code",
   "execution_count": 442,
   "metadata": {},
   "outputs": [
    {
     "name": "stdout",
     "output_type": "stream",
     "text": [
      "Precisão:  0.676454139938008\n"
     ]
    }
   ],
   "source": [
    "# Usaremoas df1 e df4 para treino e df6 para validar esse treinamento\n",
    "X_train = X4.append(X6, ignore_index = True, sort = False)\n",
    "Y_train = Y4.append(Y6, ignore_index = True)\n",
    "\n",
    "X_test = X1\n",
    "Y_test = Y1\n",
    "# Constrói o modelo de regressão com 100 árvores na floresta aleatória\n",
    "regressor = RandomForestRegressor(n_estimators = 100)\n",
    "\n",
    "# Importância das características\n",
    "importance = 0\n",
    "Score = 0\n",
    "for i in range(10):\n",
    "    # Ajusta o modelo de regressão\n",
    "    regressor.fit(X_train, Y_train)\n",
    "    Y_pred = regressor.predict(X_test)\n",
    "    # Soma as importâncias das características (quanto maior, mais importante)\n",
    "    importance = importance + regressor.feature_importances_\n",
    "    Score =  Score + regressor.score(X_test, Y_test)\n",
    "\n",
    "Score = Score/(i+1) # médica\n",
    "print(\"Precisão: \", end=\" \")\n",
    "print(Score)"
   ]
  },
  {
   "cell_type": "code",
   "execution_count": 443,
   "metadata": {},
   "outputs": [
    {
     "name": "stdout",
     "output_type": "stream",
     "text": [
      "Precisão:  0.7113867269722169\n"
     ]
    }
   ],
   "source": [
    "# Usaremoas df1 e df4 para treino e df6 para validar esse treinamento\n",
    "X_train = X1.append(X4, ignore_index = True, sort = False)\n",
    "Y_train = Y1.append(Y4, ignore_index = True)\n",
    "\n",
    "X_test = X6\n",
    "Y_test = Y6\n",
    "\n",
    "# Constrói o modelo de regressão com 100 árvores na floresta aleatória\n",
    "regressor = RandomForestRegressor(n_estimators = 100)\n",
    "\n",
    "# Importância das características\n",
    "importance = 0\n",
    "Score = 0\n",
    "for i in range(10):\n",
    "    # Ajusta o modelo de regressão\n",
    "    regressor.fit(X_train, Y_train)\n",
    "    Y_pred = regressor.predict(X_test)\n",
    "    # Soma as importâncias das características (quanto maior, mais importante)\n",
    "    importance = importance + regressor.feature_importances_\n",
    "    Score =  Score + regressor.score(X_test, Y_test)\n",
    "\n",
    "Score = Score/(i+1) # médica\n",
    "print(\"Precisão: \", end=\" \")\n",
    "print(Score)"
   ]
  },
  {
   "cell_type": "code",
   "execution_count": 444,
   "metadata": {},
   "outputs": [
    {
     "name": "stdout",
     "output_type": "stream",
     "text": [
      "Precisão:  0.7726756932233568\n"
     ]
    }
   ],
   "source": [
    "# Usaremoas df1 e df4 para treino e df6 para validar esse treinamento\n",
    "X_train = X1.append(X6, ignore_index = True, sort = False)\n",
    "Y_train = Y1.append(Y6, ignore_index = True)\n",
    "\n",
    "X_test = X4\n",
    "Y_test = Y4\n",
    "# Constrói o modelo de regressão com 100 árvores na floresta aleatória\n",
    "regressor = RandomForestRegressor(n_estimators = 100)\n",
    "\n",
    "# Importância das características\n",
    "importance = 0\n",
    "Score = 0\n",
    "for i in range(10):\n",
    "    # Ajusta o modelo de regressão\n",
    "    regressor.fit(X_train, Y_train)\n",
    "    Y_pred = regressor.predict(X_test)\n",
    "    # Soma as importâncias das características (quanto maior, mais importante)\n",
    "    importance = importance + regressor.feature_importances_\n",
    "    Score =  Score + regressor.score(X_test, Y_test)\n",
    "\n",
    "Score = Score/(i+1) # médica\n",
    "print(\"Precisão: \", end=\" \")\n",
    "print(Score)"
   ]
  },
  {
   "cell_type": "code",
   "execution_count": null,
   "metadata": {},
   "outputs": [],
   "source": []
  }
 ],
 "metadata": {
  "kernelspec": {
   "display_name": "Python 3",
   "language": "python",
   "name": "python3"
  },
  "language_info": {
   "codemirror_mode": {
    "name": "ipython",
    "version": 3
   },
   "file_extension": ".py",
   "mimetype": "text/x-python",
   "name": "python",
   "nbconvert_exporter": "python",
   "pygments_lexer": "ipython3",
   "version": "3.7.1"
  }
 },
 "nbformat": 4,
 "nbformat_minor": 2
}
