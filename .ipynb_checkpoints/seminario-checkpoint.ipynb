{
 "cells": [
  {
   "cell_type": "markdown",
   "metadata": {},
   "source": [
    "# Trabalho Final de IA: Regressão usando Floresta Aleatória  \n",
    "\n",
    "#### Equipe:\n",
    "- Iarah Gonçalvez de Almeida\n",
    "- Paulo Borges\n",
    "- David Jansen\n"
   ]
  },
  {
   "cell_type": "markdown",
   "metadata": {},
   "source": [
    "## Introdução\n",
    "\n",
    "Descrever o problema e motivação..."
   ]
  },
  {
   "cell_type": "code",
   "execution_count": 2,
   "metadata": {},
   "outputs": [],
   "source": [
    "# 1) importação de bibliotecas\n",
    "import pandas as pd\n",
    "import numpy as np\n",
    "import matplotlib.pyplot as plt\n",
    "import seaborn as sns\n",
    "from sklearn.model_selection import train_test_split\n",
    "from sklearn.ensemble import RandomForestRegressor\n",
    "from sklearn import metrics\n",
    "\n",
    "\n",
    "# 2) nomeação das colunas para a base de dados.\n",
    "names = ['rmsFX', 'maxFX', 'stdFX', \n",
    "         'rmsFY', 'maxFY', 'stdFY', \n",
    "         'rmsFZ', 'maxFZ', 'stdFZ', \n",
    "         'rmsVX', 'kVX', \n",
    "         'rmsVY', 'kVY', \n",
    "         'rmsVZ', 'kVZ', \n",
    "         'meanEA', 'stdEA']\n",
    "\n",
    "\n",
    "target = ['maxDesg']\n",
    "df1 = pd.read_csv('x1.csv', names = names)\n",
    "df4 = pd.read_csv('x4.csv', names = names)\n",
    "df6 = pd.read_csv('x6.csv', names = names)\n",
    "df_yt1 = pd.read_csv('yt1.csv', names = target)\n",
    "df_yt4 = pd.read_csv('yt4.csv', names = target)\n",
    "df_yt6 = pd.read_csv('yt6.csv', names = target)\n",
    "\n",
    "\n",
    "# 3) separando as características e target de cada base.\n",
    "# 3.1) características\n",
    "X1 = df1.iloc[:,0:17]\n",
    "X4 = df4.iloc[:,0:17]\n",
    "X6 = df6.iloc[:,0:17]\n",
    "\n",
    "# 3.2) targets\n",
    "Y1 = df1.iloc[:,-1]\n",
    "Y4 = df4.iloc[:,-1]\n",
    "Y6 = df6.iloc[:,-1]"
   ]
  },
  {
   "cell_type": "markdown",
   "metadata": {},
   "source": [
    "## Metodologia\n",
    "\n",
    "Como é feita a regressão...\n",
    "\n",
    "### Passos\n",
    "1. Separação entre conjuntos de treinamento e teste.  \n",
    "    1.1 Treinamento: C1 + C4  \n",
    "    1.2 Teste: C6  \n",
    "2. Aplicação da Random Forest k-vezes.  \n",
    "    2.1 Para cada k, utilizar um sistema de pontuação para as características mais importantes.  \n",
    "    2.2 Criar ordenação geral das características, quanto a sua importânca.  \n",
    "3. Utilização mapa de calor para exibir as coorelações entre as características.  \n",
    "    3.1 Criar uma lista de pares correlacionados para reduzir características usadas.\n",
    "    3.2 Utilizar a ordenação das características (2.2) como critério para remoção.  \n",
    "4. Avaliação do resultado.  \n",
    "    4.1 Gerar nova regressão utilizando conjunto reduzido de características.  \n",
    "    4.2 Comparar resultados.\n",
    "    \n",
    "**Obs:** O passo 3 pode ser expandido usando combinações de características para gerar novas"
   ]
  },
  {
   "cell_type": "code",
   "execution_count": 49,
   "metadata": {},
   "outputs": [],
   "source": [
    "# 4) montagem do connjunto treino\n",
    "# 4.1) X train\n",
    "framesX = [X1, X4]\n",
    "X_train = pd.concat(framesX)\n",
    "    #pd.set_option('display.max_columns', None) \n",
    "    #pd.set_option('display.max_rows', None) \n",
    "    #X_train.describe()\n",
    "# 4.2) Y train\n",
    "framesY = [Y1, Y4]\n",
    "Y_train = pd.concat(framesY)\n",
    "\n",
    "# 5) atribuição do conjunto teste\n",
    "X_test = X6\n",
    "Y_test = Y6\n",
    "\n",
    "# 6) Random Forest\n",
    "# 6.1) instanciação\n",
    "regressor = RandomForestRegressor(n_estimators = 100)\n",
    "# 6.2) atribuição de parâmetros para o modelo\n",
    "regressor.fit(X_train, Y_train)\n",
    "# 6.3) predição\n",
    "Y_pred = regressor.predict(X_test)\n",
    "# 6.4) Root Mean Squared Error, que representa o erro associado (quanto menor, melhor)\n",
    "RMSE = metrics.mean_squared_error(Y_test, Y_pred)\n",
    "Score = regressor.score(X_test, Y_test)"
   ]
  },
  {
   "cell_type": "code",
   "execution_count": 50,
   "metadata": {},
   "outputs": [
    {
     "data": {
      "text/plain": [
       "1.9658165170167493e-07"
      ]
     },
     "execution_count": 50,
     "metadata": {},
     "output_type": "execute_result"
    }
   ],
   "source": [
    "RMSE"
   ]
  },
  {
   "cell_type": "code",
   "execution_count": 51,
   "metadata": {},
   "outputs": [
    {
     "data": {
      "text/plain": [
       "0.9882741883543421"
      ]
     },
     "execution_count": 51,
     "metadata": {},
     "output_type": "execute_result"
    }
   ],
   "source": [
    "Score"
   ]
  },
  {
   "cell_type": "code",
   "execution_count": null,
   "metadata": {},
   "outputs": [],
   "source": []
  }
 ],
 "metadata": {
  "kernelspec": {
   "display_name": "Python 3",
   "language": "python",
   "name": "python3"
  },
  "language_info": {
   "codemirror_mode": {
    "name": "ipython",
    "version": 3
   },
   "file_extension": ".py",
   "mimetype": "text/x-python",
   "name": "python",
   "nbconvert_exporter": "python",
   "pygments_lexer": "ipython3",
   "version": "3.7.1"
  }
 },
 "nbformat": 4,
 "nbformat_minor": 2
}
