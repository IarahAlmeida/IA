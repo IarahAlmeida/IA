{
 "cells": [
  {
   "cell_type": "markdown",
   "metadata": {},
   "source": [
    "<h1>Trabalho final de IA</h1>"
   ]
  },
  {
   "cell_type": "code",
   "execution_count": 45,
   "metadata": {},
   "outputs": [],
   "source": [
    "# Imports\n",
    "import pandas as pd\n",
    "import numpy as np\n",
    "import matplotlib.pyplot as plt\n",
    "import seaborn as sns\n",
    "from sklearn.model_selection import train_test_split\n",
    "from sklearn.ensemble import RandomForestRegressor\n",
    "from sklearn import metrics"
   ]
  },
  {
   "cell_type": "markdown",
   "metadata": {},
   "source": [
    "<h3>Carregando a base de dados</h3>"
   ]
  },
  {
   "cell_type": "code",
   "execution_count": 46,
   "metadata": {},
   "outputs": [
    {
     "data": {
      "text/plain": [
       "(315, 19)"
      ]
     },
     "execution_count": 46,
     "metadata": {},
     "output_type": "execute_result"
    }
   ],
   "source": [
    "df = pd.read_csv(\"17x_y.csv\")\n",
    "df.shape"
   ]
  },
  {
   "cell_type": "markdown",
   "metadata": {},
   "source": [
    "<h3>Conhecendo a base de dados</h3>"
   ]
  },
  {
   "cell_type": "code",
   "execution_count": 47,
   "metadata": {},
   "outputs": [
    {
     "data": {
      "text/html": [
       "<div>\n",
       "<style scoped>\n",
       "    .dataframe tbody tr th:only-of-type {\n",
       "        vertical-align: middle;\n",
       "    }\n",
       "\n",
       "    .dataframe tbody tr th {\n",
       "        vertical-align: top;\n",
       "    }\n",
       "\n",
       "    .dataframe thead th {\n",
       "        text-align: right;\n",
       "    }\n",
       "</style>\n",
       "<table border=\"1\" class=\"dataframe\">\n",
       "  <thead>\n",
       "    <tr style=\"text-align: right;\">\n",
       "      <th></th>\n",
       "      <th>rmsFX</th>\n",
       "      <th>maxFX</th>\n",
       "      <th>stdFX</th>\n",
       "      <th>rmsFY</th>\n",
       "      <th>maxFY</th>\n",
       "      <th>stdFY</th>\n",
       "      <th>rmsFZ</th>\n",
       "      <th>maxFZ</th>\n",
       "      <th>stdFZ</th>\n",
       "      <th>rmsVX</th>\n",
       "      <th>kVX</th>\n",
       "      <th>rmsVY</th>\n",
       "      <th>kVY</th>\n",
       "      <th>rmsVZ</th>\n",
       "      <th>kVZ</th>\n",
       "      <th>meanEA</th>\n",
       "      <th>stdEA</th>\n",
       "      <th>meanDesg</th>\n",
       "      <th>maxDesg</th>\n",
       "    </tr>\n",
       "  </thead>\n",
       "  <tbody>\n",
       "    <tr>\n",
       "      <th>0</th>\n",
       "      <td>0.932973</td>\n",
       "      <td>3.744</td>\n",
       "      <td>0.842471</td>\n",
       "      <td>1.752878</td>\n",
       "      <td>10.724</td>\n",
       "      <td>1.635964</td>\n",
       "      <td>1.329826</td>\n",
       "      <td>4.560</td>\n",
       "      <td>1.127491</td>\n",
       "      <td>0.076914</td>\n",
       "      <td>3.132293</td>\n",
       "      <td>0.077509</td>\n",
       "      <td>3.125459</td>\n",
       "      <td>0.078697</td>\n",
       "      <td>3.132950</td>\n",
       "      <td>-0.000060</td>\n",
       "      <td>0.002230</td>\n",
       "      <td>39.643519</td>\n",
       "      <td>48.892617</td>\n",
       "    </tr>\n",
       "    <tr>\n",
       "      <th>1</th>\n",
       "      <td>2.129609</td>\n",
       "      <td>8.427</td>\n",
       "      <td>1.864981</td>\n",
       "      <td>3.342663</td>\n",
       "      <td>14.302</td>\n",
       "      <td>3.149955</td>\n",
       "      <td>1.970562</td>\n",
       "      <td>7.410</td>\n",
       "      <td>1.683555</td>\n",
       "      <td>0.085411</td>\n",
       "      <td>3.275172</td>\n",
       "      <td>0.085716</td>\n",
       "      <td>3.235982</td>\n",
       "      <td>0.087895</td>\n",
       "      <td>3.277357</td>\n",
       "      <td>0.038556</td>\n",
       "      <td>0.012941</td>\n",
       "      <td>41.735507</td>\n",
       "      <td>49.570815</td>\n",
       "    </tr>\n",
       "    <tr>\n",
       "      <th>2</th>\n",
       "      <td>3.208514</td>\n",
       "      <td>11.534</td>\n",
       "      <td>2.672095</td>\n",
       "      <td>5.357855</td>\n",
       "      <td>20.826</td>\n",
       "      <td>4.816030</td>\n",
       "      <td>3.255444</td>\n",
       "      <td>11.815</td>\n",
       "      <td>2.689691</td>\n",
       "      <td>0.095767</td>\n",
       "      <td>3.262720</td>\n",
       "      <td>0.094333</td>\n",
       "      <td>3.194543</td>\n",
       "      <td>0.098742</td>\n",
       "      <td>3.243210</td>\n",
       "      <td>0.066571</td>\n",
       "      <td>0.019153</td>\n",
       "      <td>43.703867</td>\n",
       "      <td>50.302867</td>\n",
       "    </tr>\n",
       "    <tr>\n",
       "      <th>3</th>\n",
       "      <td>3.658698</td>\n",
       "      <td>11.788</td>\n",
       "      <td>2.992561</td>\n",
       "      <td>6.165583</td>\n",
       "      <td>24.148</td>\n",
       "      <td>5.532475</td>\n",
       "      <td>3.720401</td>\n",
       "      <td>12.852</td>\n",
       "      <td>3.121342</td>\n",
       "      <td>0.099040</td>\n",
       "      <td>3.191981</td>\n",
       "      <td>0.097245</td>\n",
       "      <td>3.143043</td>\n",
       "      <td>0.102259</td>\n",
       "      <td>3.131365</td>\n",
       "      <td>0.080003</td>\n",
       "      <td>0.022860</td>\n",
       "      <td>45.597525</td>\n",
       "      <td>51.083652</td>\n",
       "    </tr>\n",
       "    <tr>\n",
       "      <th>4</th>\n",
       "      <td>4.110436</td>\n",
       "      <td>12.555</td>\n",
       "      <td>2.979764</td>\n",
       "      <td>6.209699</td>\n",
       "      <td>24.337</td>\n",
       "      <td>5.747392</td>\n",
       "      <td>3.489672</td>\n",
       "      <td>11.704</td>\n",
       "      <td>3.294659</td>\n",
       "      <td>0.085091</td>\n",
       "      <td>3.303040</td>\n",
       "      <td>0.084096</td>\n",
       "      <td>3.253101</td>\n",
       "      <td>0.092056</td>\n",
       "      <td>3.169435</td>\n",
       "      <td>0.089196</td>\n",
       "      <td>0.024688</td>\n",
       "      <td>47.443761</td>\n",
       "      <td>52.250329</td>\n",
       "    </tr>\n",
       "  </tbody>\n",
       "</table>\n",
       "</div>"
      ],
      "text/plain": [
       "      rmsFX   maxFX     stdFX     rmsFY   maxFY     stdFY     rmsFZ   maxFZ  \\\n",
       "0  0.932973   3.744  0.842471  1.752878  10.724  1.635964  1.329826   4.560   \n",
       "1  2.129609   8.427  1.864981  3.342663  14.302  3.149955  1.970562   7.410   \n",
       "2  3.208514  11.534  2.672095  5.357855  20.826  4.816030  3.255444  11.815   \n",
       "3  3.658698  11.788  2.992561  6.165583  24.148  5.532475  3.720401  12.852   \n",
       "4  4.110436  12.555  2.979764  6.209699  24.337  5.747392  3.489672  11.704   \n",
       "\n",
       "      stdFZ     rmsVX       kVX     rmsVY       kVY     rmsVZ       kVZ  \\\n",
       "0  1.127491  0.076914  3.132293  0.077509  3.125459  0.078697  3.132950   \n",
       "1  1.683555  0.085411  3.275172  0.085716  3.235982  0.087895  3.277357   \n",
       "2  2.689691  0.095767  3.262720  0.094333  3.194543  0.098742  3.243210   \n",
       "3  3.121342  0.099040  3.191981  0.097245  3.143043  0.102259  3.131365   \n",
       "4  3.294659  0.085091  3.303040  0.084096  3.253101  0.092056  3.169435   \n",
       "\n",
       "     meanEA     stdEA   meanDesg    maxDesg  \n",
       "0 -0.000060  0.002230  39.643519  48.892617  \n",
       "1  0.038556  0.012941  41.735507  49.570815  \n",
       "2  0.066571  0.019153  43.703867  50.302867  \n",
       "3  0.080003  0.022860  45.597525  51.083652  \n",
       "4  0.089196  0.024688  47.443761  52.250329  "
      ]
     },
     "execution_count": 47,
     "metadata": {},
     "output_type": "execute_result"
    }
   ],
   "source": [
    "df.head(5)"
   ]
  },
  {
   "cell_type": "code",
   "execution_count": 48,
   "metadata": {},
   "outputs": [
    {
     "data": {
      "text/html": [
       "<div>\n",
       "<style scoped>\n",
       "    .dataframe tbody tr th:only-of-type {\n",
       "        vertical-align: middle;\n",
       "    }\n",
       "\n",
       "    .dataframe tbody tr th {\n",
       "        vertical-align: top;\n",
       "    }\n",
       "\n",
       "    .dataframe thead th {\n",
       "        text-align: right;\n",
       "    }\n",
       "</style>\n",
       "<table border=\"1\" class=\"dataframe\">\n",
       "  <thead>\n",
       "    <tr style=\"text-align: right;\">\n",
       "      <th></th>\n",
       "      <th>rmsFX</th>\n",
       "      <th>maxFX</th>\n",
       "      <th>stdFX</th>\n",
       "      <th>rmsFY</th>\n",
       "      <th>maxFY</th>\n",
       "      <th>stdFY</th>\n",
       "      <th>rmsFZ</th>\n",
       "      <th>maxFZ</th>\n",
       "      <th>stdFZ</th>\n",
       "      <th>rmsVX</th>\n",
       "      <th>kVX</th>\n",
       "      <th>rmsVY</th>\n",
       "      <th>kVY</th>\n",
       "      <th>rmsVZ</th>\n",
       "      <th>kVZ</th>\n",
       "      <th>meanEA</th>\n",
       "      <th>stdEA</th>\n",
       "      <th>meanDesg</th>\n",
       "      <th>maxDesg</th>\n",
       "    </tr>\n",
       "  </thead>\n",
       "  <tbody>\n",
       "    <tr>\n",
       "      <th>count</th>\n",
       "      <td>315.000000</td>\n",
       "      <td>315.000000</td>\n",
       "      <td>315.000000</td>\n",
       "      <td>315.000000</td>\n",
       "      <td>315.000000</td>\n",
       "      <td>315.000000</td>\n",
       "      <td>315.000000</td>\n",
       "      <td>315.000000</td>\n",
       "      <td>315.000000</td>\n",
       "      <td>315.000000</td>\n",
       "      <td>315.000000</td>\n",
       "      <td>315.000000</td>\n",
       "      <td>315.000000</td>\n",
       "      <td>315.000000</td>\n",
       "      <td>315.000000</td>\n",
       "      <td>315.000000</td>\n",
       "      <td>315.000000</td>\n",
       "      <td>315.000000</td>\n",
       "      <td>315.000000</td>\n",
       "    </tr>\n",
       "    <tr>\n",
       "      <th>mean</th>\n",
       "      <td>25.198841</td>\n",
       "      <td>57.466302</td>\n",
       "      <td>17.982983</td>\n",
       "      <td>12.065623</td>\n",
       "      <td>50.056917</td>\n",
       "      <td>10.631080</td>\n",
       "      <td>17.477373</td>\n",
       "      <td>45.973737</td>\n",
       "      <td>16.152791</td>\n",
       "      <td>0.124853</td>\n",
       "      <td>3.397319</td>\n",
       "      <td>0.118562</td>\n",
       "      <td>3.141274</td>\n",
       "      <td>0.139238</td>\n",
       "      <td>3.335515</td>\n",
       "      <td>0.122449</td>\n",
       "      <td>0.033409</td>\n",
       "      <td>108.438126</td>\n",
       "      <td>113.905093</td>\n",
       "    </tr>\n",
       "    <tr>\n",
       "      <th>std</th>\n",
       "      <td>23.526922</td>\n",
       "      <td>45.273645</td>\n",
       "      <td>15.211921</td>\n",
       "      <td>4.415624</td>\n",
       "      <td>14.659606</td>\n",
       "      <td>4.146123</td>\n",
       "      <td>9.434325</td>\n",
       "      <td>21.013097</td>\n",
       "      <td>8.907684</td>\n",
       "      <td>0.041693</td>\n",
       "      <td>0.180502</td>\n",
       "      <td>0.039223</td>\n",
       "      <td>0.086938</td>\n",
       "      <td>0.039919</td>\n",
       "      <td>0.257751</td>\n",
       "      <td>0.024092</td>\n",
       "      <td>0.006341</td>\n",
       "      <td>27.349577</td>\n",
       "      <td>27.820190</td>\n",
       "    </tr>\n",
       "    <tr>\n",
       "      <th>min</th>\n",
       "      <td>0.932973</td>\n",
       "      <td>3.744000</td>\n",
       "      <td>0.842471</td>\n",
       "      <td>1.752878</td>\n",
       "      <td>10.724000</td>\n",
       "      <td>1.635964</td>\n",
       "      <td>1.329826</td>\n",
       "      <td>4.560000</td>\n",
       "      <td>1.127491</td>\n",
       "      <td>0.076914</td>\n",
       "      <td>3.058372</td>\n",
       "      <td>0.075509</td>\n",
       "      <td>3.005821</td>\n",
       "      <td>0.078697</td>\n",
       "      <td>2.972836</td>\n",
       "      <td>-0.000060</td>\n",
       "      <td>0.002230</td>\n",
       "      <td>39.643519</td>\n",
       "      <td>48.892617</td>\n",
       "    </tr>\n",
       "    <tr>\n",
       "      <th>25%</th>\n",
       "      <td>7.561364</td>\n",
       "      <td>18.195000</td>\n",
       "      <td>4.315302</td>\n",
       "      <td>8.544589</td>\n",
       "      <td>39.251000</td>\n",
       "      <td>7.277455</td>\n",
       "      <td>9.286571</td>\n",
       "      <td>28.261000</td>\n",
       "      <td>8.283049</td>\n",
       "      <td>0.090669</td>\n",
       "      <td>3.230989</td>\n",
       "      <td>0.085730</td>\n",
       "      <td>3.077727</td>\n",
       "      <td>0.105342</td>\n",
       "      <td>3.090676</td>\n",
       "      <td>0.112072</td>\n",
       "      <td>0.030212</td>\n",
       "      <td>91.888397</td>\n",
       "      <td>94.568624</td>\n",
       "    </tr>\n",
       "    <tr>\n",
       "      <th>50%</th>\n",
       "      <td>14.824693</td>\n",
       "      <td>36.399000</td>\n",
       "      <td>11.676704</td>\n",
       "      <td>10.460452</td>\n",
       "      <td>45.908000</td>\n",
       "      <td>8.701248</td>\n",
       "      <td>15.127177</td>\n",
       "      <td>39.874000</td>\n",
       "      <td>14.124411</td>\n",
       "      <td>0.104186</td>\n",
       "      <td>3.385965</td>\n",
       "      <td>0.097411</td>\n",
       "      <td>3.125459</td>\n",
       "      <td>0.122209</td>\n",
       "      <td>3.320772</td>\n",
       "      <td>0.119162</td>\n",
       "      <td>0.033016</td>\n",
       "      <td>102.097093</td>\n",
       "      <td>104.681915</td>\n",
       "    </tr>\n",
       "    <tr>\n",
       "      <th>75%</th>\n",
       "      <td>42.360415</td>\n",
       "      <td>100.990000</td>\n",
       "      <td>30.267008</td>\n",
       "      <td>15.774086</td>\n",
       "      <td>62.225000</td>\n",
       "      <td>14.176330</td>\n",
       "      <td>26.376962</td>\n",
       "      <td>67.602000</td>\n",
       "      <td>24.520718</td>\n",
       "      <td>0.167027</td>\n",
       "      <td>3.551259</td>\n",
       "      <td>0.152891</td>\n",
       "      <td>3.186233</td>\n",
       "      <td>0.179075</td>\n",
       "      <td>3.559731</td>\n",
       "      <td>0.123670</td>\n",
       "      <td>0.035234</td>\n",
       "      <td>129.367996</td>\n",
       "      <td>133.496947</td>\n",
       "    </tr>\n",
       "    <tr>\n",
       "      <th>max</th>\n",
       "      <td>107.121324</td>\n",
       "      <td>178.400000</td>\n",
       "      <td>51.393480</td>\n",
       "      <td>24.159673</td>\n",
       "      <td>106.630000</td>\n",
       "      <td>22.878028</td>\n",
       "      <td>34.126591</td>\n",
       "      <td>79.475000</td>\n",
       "      <td>31.899990</td>\n",
       "      <td>0.218340</td>\n",
       "      <td>3.757530</td>\n",
       "      <td>0.202944</td>\n",
       "      <td>3.567035</td>\n",
       "      <td>0.228961</td>\n",
       "      <td>4.123833</td>\n",
       "      <td>0.247884</td>\n",
       "      <td>0.084318</td>\n",
       "      <td>165.172406</td>\n",
       "      <td>172.686837</td>\n",
       "    </tr>\n",
       "  </tbody>\n",
       "</table>\n",
       "</div>"
      ],
      "text/plain": [
       "            rmsFX       maxFX       stdFX       rmsFY       maxFY       stdFY  \\\n",
       "count  315.000000  315.000000  315.000000  315.000000  315.000000  315.000000   \n",
       "mean    25.198841   57.466302   17.982983   12.065623   50.056917   10.631080   \n",
       "std     23.526922   45.273645   15.211921    4.415624   14.659606    4.146123   \n",
       "min      0.932973    3.744000    0.842471    1.752878   10.724000    1.635964   \n",
       "25%      7.561364   18.195000    4.315302    8.544589   39.251000    7.277455   \n",
       "50%     14.824693   36.399000   11.676704   10.460452   45.908000    8.701248   \n",
       "75%     42.360415  100.990000   30.267008   15.774086   62.225000   14.176330   \n",
       "max    107.121324  178.400000   51.393480   24.159673  106.630000   22.878028   \n",
       "\n",
       "            rmsFZ       maxFZ       stdFZ       rmsVX         kVX       rmsVY  \\\n",
       "count  315.000000  315.000000  315.000000  315.000000  315.000000  315.000000   \n",
       "mean    17.477373   45.973737   16.152791    0.124853    3.397319    0.118562   \n",
       "std      9.434325   21.013097    8.907684    0.041693    0.180502    0.039223   \n",
       "min      1.329826    4.560000    1.127491    0.076914    3.058372    0.075509   \n",
       "25%      9.286571   28.261000    8.283049    0.090669    3.230989    0.085730   \n",
       "50%     15.127177   39.874000   14.124411    0.104186    3.385965    0.097411   \n",
       "75%     26.376962   67.602000   24.520718    0.167027    3.551259    0.152891   \n",
       "max     34.126591   79.475000   31.899990    0.218340    3.757530    0.202944   \n",
       "\n",
       "              kVY       rmsVZ         kVZ      meanEA       stdEA    meanDesg  \\\n",
       "count  315.000000  315.000000  315.000000  315.000000  315.000000  315.000000   \n",
       "mean     3.141274    0.139238    3.335515    0.122449    0.033409  108.438126   \n",
       "std      0.086938    0.039919    0.257751    0.024092    0.006341   27.349577   \n",
       "min      3.005821    0.078697    2.972836   -0.000060    0.002230   39.643519   \n",
       "25%      3.077727    0.105342    3.090676    0.112072    0.030212   91.888397   \n",
       "50%      3.125459    0.122209    3.320772    0.119162    0.033016  102.097093   \n",
       "75%      3.186233    0.179075    3.559731    0.123670    0.035234  129.367996   \n",
       "max      3.567035    0.228961    4.123833    0.247884    0.084318  165.172406   \n",
       "\n",
       "          maxDesg  \n",
       "count  315.000000  \n",
       "mean   113.905093  \n",
       "std     27.820190  \n",
       "min     48.892617  \n",
       "25%     94.568624  \n",
       "50%    104.681915  \n",
       "75%    133.496947  \n",
       "max    172.686837  "
      ]
     },
     "execution_count": 48,
     "metadata": {},
     "output_type": "execute_result"
    }
   ],
   "source": [
    "df.describe()"
   ]
  },
  {
   "cell_type": "code",
   "execution_count": 49,
   "metadata": {},
   "outputs": [
    {
     "name": "stdout",
     "output_type": "stream",
     "text": [
      "<class 'pandas.core.frame.DataFrame'>\n",
      "RangeIndex: 315 entries, 0 to 314\n",
      "Data columns (total 19 columns):\n",
      "rmsFX       315 non-null float64\n",
      "maxFX       315 non-null float64\n",
      "stdFX       315 non-null float64\n",
      "rmsFY       315 non-null float64\n",
      "maxFY       315 non-null float64\n",
      "stdFY       315 non-null float64\n",
      "rmsFZ       315 non-null float64\n",
      "maxFZ       315 non-null float64\n",
      "stdFZ       315 non-null float64\n",
      "rmsVX       315 non-null float64\n",
      "kVX         315 non-null float64\n",
      "rmsVY       315 non-null float64\n",
      "kVY         315 non-null float64\n",
      "rmsVZ       315 non-null float64\n",
      "kVZ         315 non-null float64\n",
      "meanEA      315 non-null float64\n",
      "stdEA       315 non-null float64\n",
      "meanDesg    315 non-null float64\n",
      "maxDesg     315 non-null float64\n",
      "dtypes: float64(19)\n",
      "memory usage: 46.8 KB\n"
     ]
    }
   ],
   "source": [
    "# Checa os tipos de valores da base de dados\n",
    "df.apply(pd.to_numeric).info()"
   ]
  },
  {
   "cell_type": "code",
   "execution_count": 50,
   "metadata": {},
   "outputs": [
    {
     "data": {
      "image/png": "[encoded data removed]",
      "text/plain": [
       "<Figure size 432x288 with 1 Axes>"
      ]
     },
     "metadata": {},
     "output_type": "display_data"
    }
   ],
   "source": [
    "plt.scatter(df.meanEA, df.stdEA)\n",
    "plt.xlabel('meanEA')\n",
    "plt.ylabel('stdEA')\n",
    "plt.show()"
   ]
  },
  {
   "cell_type": "markdown",
   "metadata": {},
   "source": [
    "<h3>Seleção de características com árvore de decisão</h3>"
   ]
  },
  {
   "cell_type": "markdown",
   "metadata": {},
   "source": [
    "<h4>Random Forest Regressor</h4>"
   ]
  },
  {
   "cell_type": "code",
   "execution_count": 51,
   "metadata": {},
   "outputs": [],
   "source": [
    "# Isola as 17 características\n",
    "X = df.iloc[:,0:17]\n",
    "\n",
    "# Escolhe o desgaste máximo\n",
    "Y = df.iloc[:,-1]\n",
    "\n",
    "# Seleciona o nome das 17 características\n",
    "names = df.columns.values\n",
    "names = names[:17]\n",
    "\n",
    "# Constrói o modelo de regressão com 100 árvores na floresta\n",
    "regressor = RandomForestRegressor(n_estimators = 100)\n",
    "\n",
    "bestRMSE = float(\"inf\")\n",
    "bestScore = 0.0\n",
    "for i in range(50):\n",
    "    # Divide o dataframe em conjunto de treinamento e conjunto de teste, com 33% das amostras para o conjunto de teste\n",
    "    XTrain, XTest, YTrain, YTrue = train_test_split(X, Y, test_size = 0.33)\n",
    "    for j in range(10):\n",
    "        # Ajusta o modelo de regressão\n",
    "        regressor.fit(X, Y)\n",
    "        YPred = regressor.predict(XTest)\n",
    "        # Calcula a Root Mean Squared Error, que representa o erro associado (quanto menor, melhor)\n",
    "        currentRMSE = metrics.mean_squared_error(YTrue, YPred)\n",
    "        currentScore = regressor.score(XTest, YTrue)\n",
    "        #if currentRMSE < bestRMSE:\n",
    "        if currentScore > bestScore:\n",
    "            #bestRMSE = currentRMSE\n",
    "            bestScore = currentScore\n",
    "            bestRegressor = regressor\n",
    "            bestYTrue = YTrue\n",
    "            bestYPred = YPred\n",
    "            _XTrain = XTrain\n",
    "            _XTest = XTest\n",
    "            _YTrain = YTrain"
   ]
  },
  {
   "cell_type": "markdown",
   "metadata": {},
   "source": [
    "<h4>Erro associado à predição</h4>"
   ]
  },
  {
   "cell_type": "code",
   "execution_count": 52,
   "metadata": {},
   "outputs": [
    {
     "data": {
      "text/plain": [
       "inf"
      ]
     },
     "execution_count": 52,
     "metadata": {},
     "output_type": "execute_result"
    }
   ],
   "source": [
    "bestRMSE"
   ]
  },
  {
   "cell_type": "markdown",
   "metadata": {},
   "source": [
    "<h4>Coeficiente de determinação R^2 da predição.</h4>\n",
    "O melhor valor possível é 1.0."
   ]
  },
  {
   "cell_type": "code",
   "execution_count": 53,
   "metadata": {},
   "outputs": [
    {
     "data": {
      "text/plain": [
       "0.9999416412361516"
      ]
     },
     "execution_count": 53,
     "metadata": {},
     "output_type": "execute_result"
    }
   ],
   "source": [
    "bestScore"
   ]
  },
  {
   "cell_type": "code",
   "execution_count": 54,
   "metadata": {},
   "outputs": [
    {
     "data": {
      "text/plain": [
       "[[94.56862356, 94.56862355999996],\n",
       " [124.9023469, 124.94779977200018],\n",
       " [96.59529149, 96.80858156790008],\n",
       " [170.5470173, 170.75310066499983],\n",
       " [140.0973471, 140.07784821699985],\n",
       " [110.8620528, 110.66869176099998],\n",
       " [97.35528535, 96.83660432969992],\n",
       " [100.9248194, 101.01707116769995],\n",
       " [135.0201002, 134.972375181],\n",
       " [131.2554931, 130.609070079],\n",
       " [89.80588243, 89.87577050209995],\n",
       " [97.82822082, 97.71890564909994],\n",
       " [160.9898432, 161.4184993190003],\n",
       " [117.0423215, 117.07646747899989],\n",
       " [94.56862356, 94.56862355999996],\n",
       " [108.4480774, 108.39086137700016],\n",
       " [93.99415074, 94.45980515499997],\n",
       " [154.3337295, 154.27539695200005],\n",
       " [95.48569329, 95.79911291280007],\n",
       " [165.0341403, 164.91658228600008],\n",
       " [122.6342497, 122.68125146200009],\n",
       " [128.1710319, 128.2621729339999],\n",
       " [116.5813874, 116.91010026699983],\n",
       " [147.0716935, 147.36015813900008],\n",
       " [94.56862356, 94.56837131819995],\n",
       " [136.2650196, 136.08535585200002],\n",
       " [117.4996682, 117.73966058000002],\n",
       " [106.5424124, 106.30617485930011],\n",
       " [99.64896132, 99.77357135129999],\n",
       " [136.902076, 137.13605666800012],\n",
       " [94.56862356, 94.56862355999996],\n",
       " [164.0526545, 164.18201130299985],\n",
       " [129.5625308, 129.52227967599995],\n",
       " [86.61893145, 86.3976797236],\n",
       " [125.2584659, 125.05872946500023],\n",
       " [86.94367205, 86.72212735799992],\n",
       " [93.72240252, 93.52653682730005],\n",
       " [94.56862356, 94.61909013899995],\n",
       " [165.9965134, 165.9687027069999],\n",
       " [91.65213593, 91.84055320650018],\n",
       " [94.36655788, 94.35629233559993],\n",
       " [94.56862356, 94.56862355999996],\n",
       " [104.2263032, 104.11395536799989],\n",
       " [87.39090058, 87.38218981979986],\n",
       " [113.7539929, 113.77161049799999],\n",
       " [131.474895, 131.51899544799988],\n",
       " [50.30286727, 51.14645633010004],\n",
       " [119.2887964, 119.30644003300003],\n",
       " [79.50534445, 80.22541939439999],\n",
       " [94.56862356, 94.56862355999996],\n",
       " [87.17510345, 87.12159056830002],\n",
       " [130.3230002, 130.23049115300003],\n",
       " [108.9291061, 108.83022746000017],\n",
       " [94.56862356, 94.56862355999996],\n",
       " [107.0154117, 106.93341176400014],\n",
       " [94.56862356, 94.56837131819995],\n",
       " [143.9230495, 143.73742421399987],\n",
       " [94.56862356, 94.56862355999996],\n",
       " [115.6496958, 115.71363908800008],\n",
       " [131.6890935, 131.62327862099997],\n",
       " [100.6291683, 100.70015034299996],\n",
       " [105.1416593, 105.34985565999999],\n",
       " [159.3910281, 159.58148986500026],\n",
       " [168.3230015, 168.19701871000026],\n",
       " [92.7562856, 92.72356624580011],\n",
       " [135.172083, 135.37354188999998],\n",
       " [94.56862356, 94.56791758979996],\n",
       " [133.0568608, 133.0681770569999],\n",
       " [94.56862356, 94.56862355999996],\n",
       " [163.0516165, 162.70355128900027],\n",
       " [109.8944454, 109.94778411600001],\n",
       " [134.5579999, 134.47335582300008],\n",
       " [131.030739, 131.13331125599987],\n",
       " [129.2968443, 129.3894091510002],\n",
       " [103.7751482, 103.64387878000007],\n",
       " [98.27500469, 98.02300633400002],\n",
       " [158.8481684, 159.15510097600006],\n",
       " [167.4055503, 167.37753294],\n",
       " [153.7491167, 153.8948576310002],\n",
       " [165.5176828, 165.4553329200001],\n",
       " [94.56862356, 94.56862355999996],\n",
       " [152.5674499, 152.61231682099987],\n",
       " [100.3193584, 100.25572746410002],\n",
       " [94.88972237, 95.17221809979996],\n",
       " [87.39090058, 87.39094706849984],\n",
       " [87.39090058, 87.38951357759984],\n",
       " [164.5458173, 164.59143595500012],\n",
       " [94.56862356, 94.56853947939997],\n",
       " [94.56862356, 94.56862355999996],\n",
       " [118.8479717, 118.89789880399987],\n",
       " [103.328774, 103.43112372999984],\n",
       " [149.5467607, 149.59406304999982],\n",
       " [102.4516511, 102.34737615400003],\n",
       " [94.56862356, 94.56845539879995],\n",
       " [93.19471836, 93.32984993819993],\n",
       " [94.56862356, 94.65894228589997],\n",
       " [89.37026282, 89.30691867459998],\n",
       " [94.56862356, 94.56862355999996],\n",
       " [127.2589728, 127.22073904800007],\n",
       " [87.39090058, 87.50898690379987],\n",
       " [87.39090058, 87.39090057999985],\n",
       " [127.8735244, 127.73434957099991],\n",
       " [94.56862356, 94.56845539879995],\n",
       " [138.8181847, 139.16325980999983]]"
      ]
     },
     "execution_count": 54,
     "metadata": {},
     "output_type": "execute_result"
    }
   ],
   "source": [
    "result = []\n",
    "for i in range(len(bestYTrue)):\n",
    "    result.append([bestYTrue.iloc[i], bestYPred[i]])\n",
    "result"
   ]
  },
  {
   "cell_type": "markdown",
   "metadata": {},
   "source": [
    "<h4>Exibição dos resultados</h4>"
   ]
  },
  {
   "cell_type": "code",
   "execution_count": 55,
   "metadata": {},
   "outputs": [
    {
     "name": "stdout",
     "output_type": "stream",
     "text": [
      "Características ordenadas pela pontuação:\n",
      "[(0.15731356312114453, 'rmsFX'), (0.15266953141073614, 'stdFZ'), (0.14456432819087728, 'stdFY'), (0.13592041609987038, 'rmsFZ'), (0.11902497160335326, 'stdFX'), (0.07356730829660318, 'maxFZ'), (0.07304628358860556, 'rmsFY'), (0.05893287597168426, 'maxFX'), (0.04496021973232962, 'rmsVY'), (0.0195086488003516, 'rmsVX'), (0.01004417129857365, 'rmsVZ'), (0.00723306040774848, 'meanEA'), (0.00131659661556793, 'maxFY'), (0.00101569270504278, 'stdEA'), (0.00054351017081817, 'kVY'), (0.00024945577087634, 'kVZ'), (8.936621581687e-05, 'kVX')]\n"
     ]
    }
   ],
   "source": [
    "print(\"Características ordenadas pela pontuação:\")\n",
    "print(sorted(zip(map(lambda x: round(x, 17), bestRegressor.feature_importances_), names), reverse = True))"
   ]
  },
  {
   "cell_type": "markdown",
   "metadata": {},
   "source": [
    "<h4>Visualização da importância das 17 características</h4>"
   ]
  },
  {
   "cell_type": "code",
   "execution_count": 56,
   "metadata": {},
   "outputs": [
    {
     "data": {
      "image/png": "[encoded data removed]",
      "text/plain": [
       "<Figure size 432x288 with 1 Axes>"
      ]
     },
     "metadata": {},
     "output_type": "display_data"
    }
   ],
   "source": [
    "# Isola as importâncias das características (quanto maior, mais importante)\n",
    "importance = bestRegressor.feature_importances_\n",
    "\n",
    "# Ordena as importânticas das características \n",
    "sorted_importances = np.argsort(importance)\n",
    "\n",
    "# Plota os dados\n",
    "plt.barh(names, importance[sorted_importances], align = 'center')\n",
    "\n",
    "# Customiza a plotagem\n",
    "plt.yticks(names, names[sorted_importances])\n",
    "plt.xlabel(\"Importância relativa\")\n",
    "plt.ylabel(\"Características\")\n",
    "plt.title(\"Importância das variáveis\")\n",
    "\n",
    "# Exibe a plotagem\n",
    "plt.show()"
   ]
  },
  {
   "cell_type": "markdown",
   "metadata": {},
   "source": [
    "<h4>Correlação de características</h4>"
   ]
  },
  {
   "cell_type": "code",
   "execution_count": 57,
   "metadata": {},
   "outputs": [
    {
     "data": {
      "image/png": "[encoded data removed]",
      "text/plain": [
       "<Figure size 720x576 with 2 Axes>"
      ]
     },
     "metadata": {},
     "output_type": "display_data"
    }
   ],
   "source": [
    "# Gerando a correlação das características\n",
    "corr = df.drop(['meanDesg', 'maxDesg'], axis = 1).corr()\n",
    "\n",
    "sns.set(font_scale = 1.2)\n",
    "plt.figure(figsize = (10, 8))\n",
    "\n",
    "# Exibindo as correlações maiores que 0.9 e menores que -0.9\n",
    "ax = sns.heatmap(corr[(corr >= 0.9) | (corr <= -0.9)], vmax = 1.0, vmin = -1.0, linewidths = 1, annot = True, annot_kws = {\"size\": 12}, square = True);"
   ]
  },
  {
   "cell_type": "code",
   "execution_count": null,
   "metadata": {},
   "outputs": [],
   "source": []
  }
 ],
 "metadata": {
  "kernelspec": {
   "display_name": "Python 3",
   "language": "python",
   "name": "python3"
  },
  "language_info": {
   "codemirror_mode": {
    "name": "ipython",
    "version": 3
   },
   "file_extension": ".py",
   "mimetype": "text/x-python",
   "name": "python",
   "nbconvert_exporter": "python",
   "pygments_lexer": "ipython3",
   "version": "3.7.1"
  }
 },
 "nbformat": 4,
 "nbformat_minor": 2
}
